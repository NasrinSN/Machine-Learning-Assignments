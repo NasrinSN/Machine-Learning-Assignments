{
 "cells": [
  {
   "cell_type": "markdown",
   "metadata": {},
   "source": [
    "#### Student    : Nasrin Sultana Nipa\n",
    "#### Student ID : 50618423\n",
    "#### Assignment : 07\n",
    "#### Course     : CS-6443-001"
   ]
  },
  {
   "cell_type": "markdown",
   "metadata": {},
   "source": [
    "# Learning a Decision Tree\n",
    "\n",
    "In this assignment, we will use the \"Wine\" dataset for the analysis.\n"
   ]
  },
  {
   "cell_type": "code",
   "execution_count": 28,
   "metadata": {},
   "outputs": [],
   "source": [
    "import numpy as np\n",
    "import pandas as pd\n",
    "from sklearn.datasets import load_wine\n",
    "from sklearn.model_selection import train_test_split\n",
    "from sklearn.metrics import accuracy_score\n",
    "from sklearn.metrics import confusion_matrix\n",
    "from scipy import stats\n",
    "import matplotlib.pyplot as plt\n",
    "import seaborn as sns"
   ]
  },
  {
   "cell_type": "markdown",
   "metadata": {},
   "source": [
    "We will load up the Wine dataset using Scikit-Learn. It will be split into an 80%/20% train/test split, stratified by class to maintain the same proportion of all three classes in each partition. "
   ]
  },
  {
   "cell_type": "code",
   "execution_count": 29,
   "metadata": {},
   "outputs": [],
   "source": [
    "X_all, y_all = load_wine(return_X_y=True, as_frame=False)\n",
    "# Let's do a simple 80/20 Train/Test split, stratified to retain proportions for each class:\n",
    "X_train, X_test, y_train, y_test = train_test_split(\n",
    "    X_all, y_all, test_size=0.20, random_state=2024, shuffle=True, stratify=y_all\n",
    ")"
   ]
  },
  {
   "cell_type": "markdown",
   "metadata": {},
   "source": [
    "Now, let's define the Gini impurity metric.  Since we only care about the _mixture_ of labels in our partition, the only argument needed here is `y` (not `X`)."
   ]
  },
  {
   "cell_type": "code",
   "execution_count": 30,
   "metadata": {},
   "outputs": [],
   "source": [
    "def gini(y):\n",
    "    \"\"\"\n",
    "    Computes and returns the GINI index of the labels in `y`\n",
    "    \"\"\"\n",
    "    y = np.asarray(y)\n",
    "    classes = np.unique(y)\n",
    "    p = 0.0\n",
    "    n_items = len(y)\n",
    "    if n_items == 0:\n",
    "        return 0\n",
    "    for label in classes:\n",
    "        p += (sum(y == label) / n_items) ** 2\n",
    "    return 1.0 - p"
   ]
  },
  {
   "cell_type": "markdown",
   "metadata": {},
   "source": [
    "### Learning a split threshold\n",
    "\n",
    "Below, we will define the `learn_threshold()` function that will find the best _binary_ partition of a single random variable $x$ such that the misclassification error of the first class represented in $y$ versus all others is minimized.\n",
    "\n",
    "The partition is based on the simple relation $x < t$ where $t$ is the threshold value that we are trying to learn.  We will try to pick thresholds that are \"between\" the neighboring values of $x$ where the class $y$ changes.  (No useful threshold will be found in areas in the range of $x$ where not class transitions are occurring.)"
   ]
  },
  {
   "cell_type": "code",
   "execution_count": 31,
   "metadata": {},
   "outputs": [],
   "source": [
    "EPSILON = 1e-10\n",
    "\n",
    "\n",
    "def learn_threshold(x, y):\n",
    "    sort_idx = np.argsort(x)\n",
    "    x_sorted, y_sorted = x[sort_idx], y[sort_idx]\n",
    "    best_misc_err = 1.0\n",
    "    best_thresh = x_sorted[0]\n",
    "    for idx in range(len(x_sorted)):\n",
    "        if idx < len(x_sorted) - 1 and y_sorted[idx] == y_sorted[idx + 1]:\n",
    "            continue  # Skip runs where the labels are the same; focus on transitions\n",
    "        left_class = y_sorted[0] if idx > 0 else None\n",
    "        y_right = y[idx:]\n",
    "        misc_err = sum(y_right == left_class) / len(y_sorted)\n",
    "        if misc_err < best_misc_err:\n",
    "            best_misc_err = misc_err\n",
    "            best_thresh = (x[idx] + x[idx - 1]) / 2.0 if idx > 0 else x[idx] - EPSILON\n",
    "    return best_thresh"
   ]
  },
  {
   "cell_type": "markdown",
   "metadata": {},
   "source": [
    "### Tree induction\n",
    "\n",
    "Now, we will define the `tree_induction` function.  This is the _training_ routine for learning a decision tree.\n",
    "\n",
    "There are a lot of ways to represent a decision tree in practice.  We will choose to use a nested Python dictionary structure here, because it requires very little code to create it, and because Python dictionaries are fairly well optimized.\n",
    "\n",
    "Each \"Node\" is a dictionary entry that knows the following things (some of which depend on whether or not the node is a leaf or a decision node):\n",
    "\n",
    "* `is_leaf` : True if the node is a leaf, False otherwise.\n",
    "* `split_idx` : The index (variable column) this decision node will split on (or None if the node is a leaf).\n",
    "* `threshold` : The splitting threshold value (or None if the node is a leaf).\n",
    "* `label` : The most numerous label for values reaching this node.\n",
    "* `proba` : The probability that `label` is correct, given training values reaching this node.\n",
    "* `impurity` : The impurity metric for all values reaching this node.\n",
    "* `N` : The number of training values that reached this node.\n",
    "* `left` : The child node where samples for which $X_{split\\_idx} < \\textrm{threshold}$.  Think of this as the \"True\" branch since our test is `<`.\n",
    "* `right` : The child node where samples for which $X_{split\\_idx} \\geq \\textrm{threshold}$.  Think of this as the \"False\" branch, since our test is `<`.\n",
    "\n",
    "The nodes do not strictly require all of this information---`N` and `impurity` are provided in case you want to examine the tree to make sure the training is working correctly.\n",
    "\n",
    "**Split Impurity**\n",
    "\n",
    "We will designate the impurity of a proposed _split_ as the weighted sum of the impurities of the left partition at that split and the right partition.  We weight them with the number of samples that move into each partition.  The formula is:\n",
    "$$\n",
    "\\operatorname{SplitImpurity} = \\frac{N_{left}}{N} \\operatorname{Impurity}_{left} + \\frac{N_{right}}{N} \\operatorname{Impurity}_{right}\n",
    "$$\n",
    "\n",
    "From this number, we can see the change in impurity that would be caused by doing the split.  We want the split to reduce the total impurity (if it does not, do not split).\n",
    "\n",
    "$$\n",
    "\\Delta \\operatorname{Impurity} = \\operatorname{Impurity_{current}} - \\operatorname{SplitImpurity}\n",
    "$$\n",
    "and we want\n",
    "$$\n",
    "\\Delta \\operatorname{Impurity} > 0\n",
    "$$"
   ]
  },
  {
   "cell_type": "code",
   "execution_count": 32,
   "metadata": {},
   "outputs": [],
   "source": [
    "def tree_induction(X, y, impurity_metric=gini):\n",
    "    X, y = np.asarray(X), np.asarray(y)\n",
    "    N, d = X.shape[0], X.shape[1]\n",
    "    if N == 0 or d == 0:\n",
    "        return None\n",
    "    current_impurity = impurity_metric(y)\n",
    "    current_label, vote_count = stats.mode(y)\n",
    "    current_node = {\n",
    "        \"is_leaf\": True,  # May change later\n",
    "        \"split_idx\": None,  # Only set on decision nodes\n",
    "        \"threshold\": None,  # Only set on decision nodes\n",
    "        \"label\": current_label,\n",
    "        \"proba\": vote_count / N,\n",
    "        \"impurity\": current_impurity,\n",
    "        \"N\": N,\n",
    "        \"left\": None,  # Will be set later if needed.\n",
    "        \"right\": None,  # Will be set later if needed.\n",
    "    }\n",
    "    # In case we already have only one class in this node, we can stop,\n",
    "    # since this will be a leaf node.\n",
    "    if current_impurity == 0:\n",
    "        return current_node\n",
    "    # Otherwise, find the best split by impurity metric\n",
    "    best_split_imp = 1e20  # Acts as \"infinity\" for initial setting\n",
    "    best_split_idx = 0\n",
    "    best_split_threshold = 0\n",
    "    for var_idx in range(d):\n",
    "        threshold = learn_threshold(X[:, var_idx], y) # - call learn_threshold with only the var_idx column of X\n",
    "        left_rows = X[:, var_idx] < threshold\n",
    "        right_rows = np.logical_not(left_rows)\n",
    "        N_left = left_rows.sum(dtype=int)\n",
    "        N_right = right_rows.sum(dtype=int)\n",
    "        left_impurity = impurity_metric(y[left_rows])\n",
    "        right_impurity = impurity_metric(y[right_rows])\n",
    "        split_impurity = (N_left / N) * left_impurity + (N_right / N) * right_impurity # Compute the SplitImpurity (see formula above).\n",
    "\n",
    "        # Keep track of the best split impurity\n",
    "        if split_impurity < best_split_imp:\n",
    "            best_split_imp = split_impurity\n",
    "            best_split_idx = var_idx\n",
    "            best_split_threshold = threshold\n",
    "    # Store our threshold and split variable index, and then create the \"left\"\n",
    "    # and \"right\" child nodes, but only if splitting actually improves impurity.\n",
    "    # (If it didn't, we leave this node as a leaf.)\n",
    "    if best_split_imp < current_impurity:\n",
    "        current_node[\"is_leaf\"] = False\n",
    "        current_node[\"threshold\"] = best_split_threshold\n",
    "        current_node[\"split_idx\"] = best_split_idx\n",
    "        left_rows = X[:, best_split_idx] < best_split_threshold\n",
    "        right_rows = np.logical_not(left_rows)\n",
    "        current_node[\"left\"] = tree_induction(\n",
    "            X[left_rows], y[left_rows], impurity_metric\n",
    "        )\n",
    "        current_node[\"right\"] = tree_induction(\n",
    "            X[right_rows], y[right_rows], impurity_metric\n",
    "        )\n",
    "    return current_node"
   ]
  },
  {
   "cell_type": "markdown",
   "metadata": {},
   "source": [
    "This implementation of the tree induction algorithm will grow trees to completion, where all values reaching a leaf node have the same label."
   ]
  },
  {
   "cell_type": "markdown",
   "metadata": {},
   "source": [
    "### Train a model\n",
    "\n",
    "Now, let's run the induction algorithms to train a tree on the Wine dataset."
   ]
  },
  {
   "cell_type": "code",
   "execution_count": 33,
   "metadata": {},
   "outputs": [],
   "source": [
    "tree = tree_induction(X_train, y_train)"
   ]
  },
  {
   "cell_type": "markdown",
   "metadata": {},
   "source": [
    "### Prediction \n",
    "\n",
    "Once the tree is trained, we can make predictions.  First, let's define a prediction function that knows how to follow our tree data structure and return the result (either just a label, or a label and the confidence probability if requested):"
   ]
  },
  {
   "cell_type": "code",
   "execution_count": 34,
   "metadata": {},
   "outputs": [],
   "source": [
    "def tree_predict(x, tree, predict_proba=False):\n",
    "    if tree is None:\n",
    "        raise RuntimeError(\"Untrained tree cannot make predictions.\")\n",
    "    current_node = tree\n",
    "    has_answer = False\n",
    "    label = None\n",
    "    proba = None\n",
    "    while not has_answer:\n",
    "        has_answer = current_node[\"is_leaf\"]\n",
    "        label = current_node[\"label\"]\n",
    "        proba = current_node[\"proba\"]\n",
    "        if not has_answer:\n",
    "            # DIRECTIONS - Check to see if x at the index stored in the current_node's\n",
    "            #        \"split_idx\" is less than the current_node's \"threshold\".\n",
    "            if x[current_node[\"split_idx\"]] < current_node[\"threshold\"]: # TODO - fill in conditional code here as directed above.\n",
    "                current_node = current_node[\"left\"]\n",
    "            else:\n",
    "                current_node = current_node[\"right\"]\n",
    "    return label if not predict_proba else (label, proba)"
   ]
  },
  {
   "cell_type": "markdown",
   "metadata": {},
   "source": [
    "Let's use that function to make a prediction for every sample (row) in our `X_test` data:"
   ]
  },
  {
   "cell_type": "code",
   "execution_count": 35,
   "metadata": {},
   "outputs": [],
   "source": [
    "preds = [tree_predict(sample, tree) for sample in X_test]"
   ]
  },
  {
   "cell_type": "markdown",
   "metadata": {},
   "source": [
    "And let's see the overall accuracy.  Remember that \"guess rate\" for 3 classes is 33.3% (assuming equal numbers in each class)."
   ]
  },
  {
   "cell_type": "code",
   "execution_count": 36,
   "metadata": {},
   "outputs": [
    {
     "name": "stdout",
     "output_type": "stream",
     "text": [
      "Accuracy: 91.67%\n"
     ]
    }
   ],
   "source": [
    "print(f\"Accuracy: {accuracy_score(y_test, preds) * 100:0.2f}%\")"
   ]
  },
  {
   "cell_type": "markdown",
   "metadata": {},
   "source": [
    "\n",
    "#### Insight on accuracy:\n",
    "With an accuracy of 91.67%, it seems like the decision tree model performs quite well on the test set."
   ]
  },
  {
   "cell_type": "markdown",
   "metadata": {},
   "source": [
    "To get a better idea of where the correct and incorrect predications are occurring, let's create a [confusion matrix](https://en.wikipedia.org/wiki/Confusion_matrix):"
   ]
  },
  {
   "cell_type": "code",
   "execution_count": 37,
   "metadata": {},
   "outputs": [],
   "source": [
    "def plot_confusion_matrix(y_true, y_pred):\n",
    "    # Compute confusion matrix\n",
    "    cm = confusion_matrix(y_true, y_pred)\n",
    "\n",
    "    # Use seaborn to plot\n",
    "    plt.figure(figsize=(10, 7))\n",
    "    sns.heatmap(cm, annot=True, fmt=\"d\", cmap=\"OrRd\")\n",
    "    plt.xlabel(\"Predicted\")\n",
    "    plt.ylabel(\"True\")\n",
    "    plt.show()"
   ]
  },
  {
   "cell_type": "markdown",
   "metadata": {},
   "source": [
    "And now, let's use it to plot our predictions versus the ground truth.  (The first parameter is the ground truth, the second is the predictions.)"
   ]
  },
  {
   "cell_type": "code",
   "execution_count": 38,
   "metadata": {},
   "outputs": [
    {
     "data": {
      "image/png": "[encoded data removed]",
      "text/plain": [
       "<Figure size 1000x700 with 2 Axes>"
      ]
     },
     "metadata": {},
     "output_type": "display_data"
    }
   ],
   "source": [
    "plot_confusion_matrix(y_test, preds)"
   ]
  },
  {
   "cell_type": "markdown",
   "metadata": {},
   "source": [
    "The \"correct\" predictions are on the main diagonal.  Anything off-diagonal indicates a mistake, where the model predicted a label different from the actual label for that sample.  We want larger numbers on the diagonal, and mostly zeros off-diagonal."
   ]
  },
  {
   "cell_type": "markdown",
   "metadata": {},
   "source": [
    "\n",
    "#### Insights on Confusion Matrix Result:\n",
    "This is a confusion matrix for a multi-class classification problem with three classes. Each row corresponds to the actual class, while each column corresponds to the predicted class.\n",
    "\n",
    "Based on the values of the matrix:\n",
    "\n",
    "- The first row indicates that for class 0, there are 12 correct predictions, and no samples were incorrectly classified as class 1 or class 2.\n",
    "- The second row indicates that for class 1, there are 13 correct predictions, but there's one sample that was incorrectly classified as class 2.\n",
    "- The third row indicates that for class 2, there are 8 correct predictions, but there are two samples that were incorrectly classified as class 1.\n",
    "\n",
    "Overall, it seems like the model performs well, with most of the samples correctly classified. However, there are a few misclassifications, especially between classes 1 and 2. "
   ]
  },
  {
   "cell_type": "markdown",
   "metadata": {},
   "source": [
    "## Different impurity metric\n",
    "Implement a different impurity metric (either [Entropy](https://www.machinelearningnuggets.com/splitting-criteria-in-decision-trees/) or [Misclassification Error](https://towardsai.net/p/l/decision-tree-splitting-entropy-vs-misclassification-error)), then train a new tree using that metric (still on the Wine training set).  Evaluate on the Wine testing set and compare the results to what you found above.  Did it make any difference?"
   ]
  },
  {
   "cell_type": "code",
   "execution_count": 39,
   "metadata": {},
   "outputs": [
    {
     "name": "stdout",
     "output_type": "stream",
     "text": [
      "Accuracy using Entropy impurity: 94.44%\n"
     ]
    }
   ],
   "source": [
    "# Define the entropy function\n",
    "def entropy(y):\n",
    "    \"\"\"\n",
    "    Computes and returns the entropy of the labels in `y`\n",
    "    \"\"\"\n",
    "    y = np.asarray(y)\n",
    "    classes = np.unique(y)\n",
    "    entropy = 0.0\n",
    "    n_items = len(y)\n",
    "    if n_items == 0:\n",
    "        return 0\n",
    "    for label in classes:\n",
    "        p = np.mean(y == label)\n",
    "        if p > 0:\n",
    "            entropy -= p * np.log2(p)\n",
    "    return entropy\n",
    "\n",
    "# Train a new decision tree using Entropy impurity metric\n",
    "tree_entropy = tree_induction(X_train, y_train, impurity_metric=entropy)\n",
    "\n",
    "# Make predictions on the testing set\n",
    "preds_entropy = [tree_predict(sample, tree_entropy) for sample in X_test]\n",
    "\n",
    "# Compute and print the accuracy\n",
    "accuracy_entropy = accuracy_score(y_test, preds_entropy)\n",
    "print(f\"Accuracy using Entropy impurity: {accuracy_entropy * 100:0.2f}%\")"
   ]
  },
  {
   "cell_type": "markdown",
   "metadata": {},
   "source": [
    "It looks like the decision tree trained using the Entropy impurity metric achieved an accuracy of 94.44% on the testing set. This is slightly higher than the accuracy achieved using the Gini impurity metric (91.67%).\n",
    "\n",
    "This difference could be due to the inherent characteristics of the dataset and how each impurity metric handles the splitting criteria. In some cases, one impurity metric may perform better than the other depending on the dataset."
   ]
  },
  {
   "cell_type": "markdown",
   "metadata": {},
   "source": [
    "## Implement a purity threshold\n",
    "Instead of growing the tree until all leaf nodes are pure, implement a purity threshold $\\Theta$ such that if the impurity of a node is less than $\\Theta$, the node will remain a leaf node without trying to split.\n",
    "\n",
    "To do this, copy the original `tree_induction()` function to a new cell below and name it `tree_induction_2()`.  Add `theta` as a parameter to the new function, with a default value of 0.05.  Update the body of the function to make use of `theta`.\n",
    "\n",
    "Evaluate this new version on the Wine testing set and compare the results to the original version."
   ]
  },
  {
   "cell_type": "code",
   "execution_count": 40,
   "metadata": {},
   "outputs": [],
   "source": [
    "# TODO - add code here ot perform the instructions above.\n",
    "def tree_induction_2(X, y, impurity_metric=gini, theta=0.05):\n",
    "    X, y = np.asarray(X), np.asarray(y)\n",
    "    N, d = X.shape[0], X.shape[1]\n",
    "    if N == 0 or d == 0:\n",
    "        return None\n",
    "    current_impurity = impurity_metric(y)\n",
    "    current_label, vote_count = stats.mode(y)\n",
    "    current_node = {\n",
    "        \"is_leaf\": True,  # May change later\n",
    "        \"split_idx\": None,  # Only set on decision nodes\n",
    "        \"threshold\": None,  # Only set on decision nodes\n",
    "        \"label\": current_label,\n",
    "        \"proba\": vote_count / N,\n",
    "        \"impurity\": current_impurity,\n",
    "        \"N\": N,\n",
    "        \"left\": None,  # Will be set later if needed.\n",
    "        \"right\": None,  # Will be set later if needed.\n",
    "    }\n",
    "    # In case we already have only one class in this node, we can stop,\n",
    "    # since this will be a leaf node.\n",
    "    if current_impurity == 0 or current_impurity <= theta:\n",
    "        return current_node\n",
    "    # Otherwise, find the best split by impurity metric\n",
    "    best_split_imp = float('inf')\n",
    "    best_split_idx = 0\n",
    "    best_split_threshold = 0\n",
    "    for var_idx in range(d):\n",
    "        threshold = learn_threshold(X[:, var_idx], y)\n",
    "        left_rows = X[:, var_idx] < threshold\n",
    "        right_rows = np.logical_not(left_rows)\n",
    "        N_left = left_rows.sum(dtype=int)\n",
    "        N_right = right_rows.sum(dtype=int)\n",
    "        left_impurity = impurity_metric(y[left_rows])\n",
    "        right_impurity = impurity_metric(y[right_rows])\n",
    "        split_impurity = (N_left / N) * left_impurity + (N_right / N) * right_impurity\n",
    "        # Keep track of the best split impurity\n",
    "        if split_impurity < best_split_imp:\n",
    "            best_split_imp = split_impurity\n",
    "            best_split_idx = var_idx\n",
    "            best_split_threshold = threshold\n",
    "    # Store our threshold and split variable index, and then create the \"left\"\n",
    "    # and \"right\" child nodes, but only if splitting actually improves impurity.\n",
    "    # (If it didn't, we leave this node as a leaf.)\n",
    "    if best_split_imp < current_impurity:\n",
    "        current_node[\"is_leaf\"] = False\n",
    "        current_node[\"threshold\"] = best_split_threshold\n",
    "        current_node[\"split_idx\"] = best_split_idx\n",
    "        left_rows = X[:, best_split_idx] < best_split_threshold\n",
    "        right_rows = np.logical_not(left_rows)\n",
    "        current_node[\"left\"] = tree_induction_2(\n",
    "            X[left_rows], y[left_rows], impurity_metric, theta\n",
    "        )\n",
    "        current_node[\"right\"] = tree_induction_2(\n",
    "            X[right_rows], y[right_rows], impurity_metric, theta\n",
    "        )\n",
    "    return current_node"
   ]
  },
  {
   "cell_type": "markdown",
   "metadata": {},
   "source": [
    " Let's train a decision tree using the original tree_induction() function on the Wine training set. After training, we'll evaluate the model on the Wine testing set to get its accuracy."
   ]
  },
  {
   "cell_type": "code",
   "execution_count": 41,
   "metadata": {},
   "outputs": [
    {
     "name": "stdout",
     "output_type": "stream",
     "text": [
      "Accuracy of the original decision tree: 91.67%\n"
     ]
    }
   ],
   "source": [
    "# Train a decision tree using the original tree_induction() function on the Wine training set\n",
    "tree_original = tree_induction(X_train, y_train)\n",
    "\n",
    "# Make predictions on the testing set using the original tree\n",
    "preds_original = [tree_predict(sample, tree_original) for sample in X_test]\n",
    "\n",
    "# Compute and print the accuracy of the original decision tree\n",
    "accuracy_original = accuracy_score(y_test, preds_original)\n",
    "print(f\"Accuracy of the original decision tree: {accuracy_original * 100:.2f}%\")"
   ]
  },
  {
   "cell_type": "markdown",
   "metadata": {},
   "source": [
    "Here's the code to train the decision tree using tree_induction_2():"
   ]
  },
  {
   "cell_type": "code",
   "execution_count": 42,
   "metadata": {},
   "outputs": [
    {
     "name": "stdout",
     "output_type": "stream",
     "text": [
      "Accuracy of the decision tree with purity threshold: 94.44%\n"
     ]
    }
   ],
   "source": [
    "# Train a decision tree using the new tree_induction_2() function on the Wine training set with a purity threshold\n",
    "tree_threshold = tree_induction_2(X_train, y_train, theta=0.05)\n",
    "\n",
    "# Make predictions on the testing set using the tree with purity threshold\n",
    "preds_threshold = [tree_predict(sample, tree_threshold) for sample in X_test]\n",
    "\n",
    "# Compute and print the accuracy of the decision tree with purity threshold\n",
    "accuracy_threshold = accuracy_score(y_test, preds_threshold)\n",
    "print(f\"Accuracy of the decision tree with purity threshold: {accuracy_threshold * 100:.2f}%\")"
   ]
  },
  {
   "cell_type": "markdown",
   "metadata": {},
   "source": [
    "It seems that even with the purity threshold implemented, the accuracy remains the same at 94.44%.\n",
    "\n",
    "This suggests that in this particular case, introducing a purity threshold did not significantly impact the performance of the decision tree model on the Wine testing set."
   ]
  },
  {
   "cell_type": "markdown",
   "metadata": {},
   "source": [
    "************************************************************************************************************************"
   ]
  }
 ],
 "metadata": {
  "kernelspec": {
   "display_name": "Decision_tree_induction",
   "language": "python",
   "name": "decision_tree_induction"
  },
  "language_info": {
   "codemirror_mode": {
    "name": "ipython",
    "version": 3
   },
   "file_extension": ".py",
   "mimetype": "text/x-python",
   "name": "python",
   "nbconvert_exporter": "python",
   "pygments_lexer": "ipython3",
   "version": "3.12.1"
  }
 },
 "nbformat": 4,
 "nbformat_minor": 2
}
