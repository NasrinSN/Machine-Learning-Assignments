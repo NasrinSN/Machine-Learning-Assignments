{
 "cells": [
  {
   "cell_type": "markdown",
   "metadata": {},
   "source": [
    "# Project Information\n",
    "- **Name**: homework_1d_classifier.ipynb\n",
    "- **Version**: 0.1.0\n",
    "- **Description**: This assignment will show how to train a very simple model to discriminate between two classes in 1-dimensional space\n",
    "- **Authors**: Nasrin Sultana Nipa <nasrin.sultanan@smail.astate.edu>\n",
    "- **Professor**: Dr. Jason Causey\n",
    "- **README File**: [README.md](README.md)\n",
    "\n",
    "# Dependencies\n",
    "- **Python**: 3.12\n",
    "- **numpy**: 1.26.3\n",
    "- **matplotlib**: 3.8.2\n",
    "- **ipykernel**: 6.29.0\n",
    "\n",
    "# Build System\n",
    "- **Requires**: poetry-core\n",
    "- **Build Backend**: poetry.core.masonry.api"
   ]
  },
  {
   "cell_type": "markdown",
   "metadata": {},
   "source": [
    "# Learning a 1-D Classification Model\n",
    "\n",
    "In this example notebook, we will see how to train a very simple (1 parameter) model to discriminate between two classes in 1-dimensional space.\n",
    "\n",
    "To run this notebook, we need a way of running Jupyter Notebooks, plus the following packages:\n",
    "\n",
    "* `numpy`\n",
    "* `matplotlib`\n",
    "\n",
    "If you are using Visual Studio Code, you can install all necessary dependencies with Python Poetry using the following command:\n",
    "\n",
    "```bash\n",
    "poetry init -q\n",
    "poetry add numpy matplotlib ipykernel\n",
    "```\n",
    "\n",
    "If you do not use Visual Studio Code, you can use JupyterLab.  Prepare the project directory and launch JupyterLab this way:\n",
    "\n",
    "```bash\n",
    "poetry init -q\n",
    "poetry add numpy matplotlib jupyterlab\n",
    "poetry run jupyter lab\n",
    "```"
   ]
  },
  {
   "cell_type": "markdown",
   "metadata": {},
   "source": [
    "Most Python project start by importing libraries. \n",
    "Here, we use,\n",
    "import `numpy` (and nickname it `np`) and the ploting library from `matplotlib` (and nickname it `plt`)."
   ]
  },
  {
   "cell_type": "code",
   "execution_count": 1,
   "metadata": {},
   "outputs": [],
   "source": [
    "import numpy as np\n",
    "import matplotlib.pyplot as plt"
   ]
  },
  {
   "cell_type": "markdown",
   "metadata": {},
   "source": [
    "Now we need to generate some simulated data.  In this example, there will be two classes, and they will be perfectly separable."
   ]
  },
  {
   "cell_type": "code",
   "execution_count": 3,
   "metadata": {},
   "outputs": [],
   "source": [
    "np.random.seed(0)  # Make the simulation of datasets repeatable\n",
    "X = (\n",
    "    np.concatenate([np.random.normal(-10, 4.5, 50), np.random.normal(10, 4, 50)])\n",
    "    + 8 * np.random.random()\n",
    ")\n",
    "y = np.concatenate([np.zeros(50), np.ones(50)])\n",
    "# Shuffle the two arrays, but maintain the parallel relationship (labels must match samples).\n",
    "p = np.random.permutation(len(X))\n",
    "X = X[p]\n",
    "y = y[p]\n",
    "# Now take half to be the training set and half to be the testing set.\n",
    "X_train = X[:50]\n",
    "y_train = y[:50]\n",
    "X_test = X[50:]\n",
    "y_test = y[50:]"
   ]
  },
  {
   "cell_type": "markdown",
   "metadata": {},
   "source": [
    "We now have 50 samples for training, and 50 samples for testing.  \n",
    "\n",
    "There are 2 classes, and we can show that they are perfectly separable by plotting the full dataset with color and +/- markers to indicate class:"
   ]
  },
  {
   "cell_type": "code",
   "execution_count": 4,
   "metadata": {},
   "outputs": [
    {
     "data": {
      "image/png": "[encoded data removed]",
      "text/plain": [
       "<Figure size 640x50 with 1 Axes>"
      ]
     },
     "metadata": {},
     "output_type": "display_data"
    }
   ],
   "source": [
    "# Plot the dataset as a 1-D scatterplot with blue (-) for the \n",
    "# negative class and red (+) for the positive class.\n",
    "plt.figure().set_figheight(0.5)\n",
    "plt.scatter(\n",
    "    X[y == 0],\n",
    "    np.zeros(sum(y == 0)),\n",
    "    c=\"blue\",\n",
    "    marker=\"$\\\\ominus$\",\n",
    "    s=80,\n",
    "    linewidths=0.01,\n",
    ")\n",
    "plt.scatter(\n",
    "    X[y == 1], np.zeros(sum(y == 1)), c=\"red\", marker=\"$\\\\oplus$\", s=80, linewidths=0.01\n",
    ")\n",
    "plt.xlim(-19, 22)\n",
    "plt.gca().axes.get_yaxis().set_visible(False)\n",
    "plt.title(\"Full Dataset\")\n",
    "plt.show()"
   ]
  },
  {
   "cell_type": "markdown",
   "metadata": {},
   "source": [
    "## Our Model\n",
    "\n",
    "Our model is a simple classifier with a single parameter, which forms a point discriminant in 1-D space to the left of which we will label points as \"-\" and to the right of which we will label points as \"+\".  \n",
    "\n",
    "The model is:\n",
    "\n",
    "$$g(x|t) = 1(t < x)$$\n",
    "\n",
    "We have only one \"free\" parameter to learn: $t$, which acts as a \"threshold\" to determine the class.\n",
    "$t$ could take on any value from $-\\infty$ to $\\infty$.\n",
    "\n",
    "In practice though, there is no reason to look at any value less than the smallest $x$ value (minus a small \"epsilon\" in case all examples are positive), or larger than the largest $x$ value.  So the true range of possible values for $t$ is $[\\min(X)-\\epsilon,\\ \\max(X)]$.\n",
    "\n",
    "We need a way to know when our choice of $t$ is a good one.  We will target the metric **_accuracy_**, defined as:\n",
    "$$\\textrm{accuracy} = \\frac{\\textrm{Correct}}{\\textrm{Total}}$$ \n",
    "where \"Correct\" means we correctly classify the data point.  \"Total\" is the total number of predictions we make with the model.  Since accuracy is a metric in which a higher value is better, we want to _maximize_ the result.\n",
    "\n",
    "Algorithmically, we will \"learn\" the correct setting for $t$ by starting at the lowest feasible value and \"sweeping\" it slowly toward larger values, recording the best accuracy (and corresponding $t$ that produced it) along the way.  This is a brute-force approach, and we can probably make it more efficient... But it is a very intuitive algorithm to implement, so let's try it.\n",
    "\n",
    "```text\n",
    "let g := threshold discriminant function\n",
    "let X := training set x variables\n",
    "let y := training set y (ground truth) labels\n",
    "let epsilon := 5.1\n",
    "let t := min(X) - epsilon\n",
    "let best_acc := 0\n",
    "let best_t   := t\n",
    "while t <= max(X), do:\n",
    "    let current_acc = evaluate(g,t,X,y)\n",
    "    if current_acc > best_acc:\n",
    "        best_acc = current_acc\n",
    "        best_t   = t\n",
    "    t = t + epsilon\n",
    "```\n",
    "And, we need to define what the `evaluate()` function will do, which is to compute $\\hat{y} = g(x^i|t)\\  \\forall \\ x^i\\in X$, where $\\hat{y}$ is our list of _predictions_.  Now, we compute the accuracy, according to the formula above, and that number is returned.\n",
    "\n",
    "```text\n",
    "define function evaluate(g,t,X,y):\n",
    "    let y_pred := empty list\n",
    "    for each x in X:\n",
    "        add g(x,t) to y_pred\n",
    "    let correct_preds := list of size |y|, all zeros\n",
    "    for i in [0, |y|):\n",
    "        if y[i] == y_pred[i]:\n",
    "            correct_preds[i] = 1\n",
    "    let acc := sum(correct_preds) / |y|\n",
    "    return acc\n",
    "```\n",
    "\n",
    "In Python, we need to define the function dependencies first, before the main routine.  So we start with `g()` and  `evaluate()`:"
   ]
  },
  {
   "cell_type": "code",
   "execution_count": 19,
   "metadata": {},
   "outputs": [],
   "source": [
    "# Our classifier function, parameterized on threshold `t`\n",
    "def g(x, t):\n",
    "    return t < x\n",
    "\n",
    "# Get the accuracy of classifer `g` given threshold `t` on samples\n",
    "# `X` whose correct class is given by `y`\n",
    "def evaluate(g, t, X, y):\n",
    "    y_pred = []\n",
    "    for x in X:\n",
    "        y_pred.append(g(x, t))\n",
    "    correct_preds = []\n",
    "    for i in range(len(y)):\n",
    "        correct_preds.append(y[i] == y_pred[i])\n",
    "    acc = sum(correct_preds) / len(y)\n",
    "    return acc"
   ]
  },
  {
   "cell_type": "markdown",
   "metadata": {},
   "source": [
    "Now we can define the routine for learning a possible value for $t$."
   ]
  },
  {
   "cell_type": "code",
   "execution_count": 20,
   "metadata": {},
   "outputs": [
    {
     "name": "stdout",
     "output_type": "stream",
     "text": [
      "t=1.5, acc=0.98\n",
      "t=1.7, acc=0.98\n",
      "t=2.0, acc=1.00\n",
      "t=2.2, acc=1.00\n",
      "t=2.5, acc=1.00\n",
      "t=2.7, acc=1.00\n",
      "t=3.0, acc=1.00\n",
      "t=3.2, acc=1.00\n",
      "t=3.5, acc=1.00\n",
      "t=3.7, acc=1.00\n",
      "t=4.0, acc=1.00\n",
      "t=4.2, acc=1.00\n",
      "t=4.5, acc=1.00\n",
      "t=4.7, acc=1.00\n",
      "t=5.0, acc=1.00\n",
      "t=5.2, acc=1.00\n",
      "t=5.5, acc=1.00\n",
      "t=5.7, acc=1.00\n",
      "t=6.0, acc=1.00\n",
      "t=6.2, acc=1.00\n",
      "t=6.5, acc=1.00\n",
      "t=6.7, acc=1.00\n",
      "t=7.0, acc=1.00\n",
      "t=7.2, acc=1.00\n",
      "t=7.5, acc=0.98\n",
      "t=7.7, acc=0.98\n",
      "t=8.0, acc=0.98\n",
      "t=8.2, acc=0.98\n",
      "\n",
      "We found the best threshold `t` at 1.977\n",
      "\n"
     ]
    }
   ],
   "source": [
    "# Train the classifier `g` on the training data `X_train` supervised by\n",
    "# the ground truth classes `y_train`\n",
    "def train(g, X_train, y_train):\n",
    "    epsilon = 0.25\n",
    "    t = min(X_train) - epsilon\n",
    "    best_acc = 0\n",
    "    best_t = t\n",
    "    while t <= max(X_train):\n",
    "        current_acc = evaluate(g, t, X_train, y_train)\n",
    "        if current_acc > best_acc:\n",
    "            best_acc = current_acc\n",
    "            best_t = t\n",
    "        # Let's print any accuracies that are \"almost\" perfect...\n",
    "        if current_acc > 0.975:\n",
    "            print(f\"t={t:0.1f}, acc={current_acc:0.2f}\")\n",
    "        t = t + epsilon\n",
    "    return best_t\n",
    "\n",
    "# Perform the training and report the final accuracy on the training set:\n",
    "t = train(g, X_train, y_train)\n",
    "print(f\"\\nWe found the best threshold `t` at {t:0.3f}\\n\")"
   ]
  },
  {
   "cell_type": "markdown",
   "metadata": {},
   "source": [
    "But... _Is_ that the \"best\" threshold $t$?  (This was the accuracy on the _training_ set, after all.  It should be perfect!)\n",
    "\n",
    "Evaluating the model solely on the training set can give an overly optimistic view of its performance since the model might have simply memorized the training data without truly learning to generalize.\n",
    "\n",
    "By evaluating the model on the testing set using the best threshold `t`, we're assessing its ability to generalize to unseen data, which is crucial for assessing its real-world performance. This approach ensures that the model's performance estimation is more reliable and indicative of its true effectiveness.\n",
    "\n",
    "The following code snippet for evaluating the model using the `evaluate` function with the best threshold `t` and the testing data `X_test` and `y_test`, then printing the test accuracy. This step provides valuable insight into how well our model performs on new, unseen data.\n",
    "\n",
    "Let's try running an evaluation of our model with our \"best\" $t$ against the _testing_ set:"
   ]
  },
  {
   "cell_type": "code",
   "execution_count": 21,
   "metadata": {},
   "outputs": [
    {
     "name": "stdout",
     "output_type": "stream",
     "text": [
      "The test accuracy is: 0.94 (94.0%)\n"
     ]
    }
   ],
   "source": [
    "test_accuracy = evaluate(g, t, X_test, y_test)\n",
    "print(f\"The test accuracy is: {test_accuracy:0.2f} ({test_accuracy*100}%)\")"
   ]
  },
  {
   "cell_type": "markdown",
   "metadata": {},
   "source": [
    "OK... Why didn't this give perfect performance? We know the dataset _is_ separable... We've seen it!"
   ]
  },
  {
   "cell_type": "markdown",
   "metadata": {},
   "source": [
    "The fact that the dataset is separable doesn't guarantee perfect performance on unseen data. Several factors could contribute to the discrepancy between the training accuracy and the test accuracy:\n",
    "\n",
    "1. **Overfitting:** The model may have overfit to the training data, capturing noise or outliers that don't generalize well to new data. This can lead to a drop in performance when evaluated on the testing set.\n",
    "\n",
    "2. **Dataset Distribution:** While the dataset is separable, the testing set might have slightly different distribution characteristics compared to the training set. This difference can affect the model's ability to generalize, leading to a decrease in performance on the testing set.\n",
    "\n",
    "3. **Threshold Sensitivity:** The threshold `t` chosen based on the training set might not be optimal for the testing set. Even though the model achieved high accuracy on the training set with the selected threshold, it may not generalize well to unseen data.\n",
    "\n",
    "4. **Randomness:** The dataset generation process involves randomness, such as the random initialization of data points and shuffling. This randomness can lead to variations in performance between different runs of the experiment.\n",
    "\n",
    "To address these issues and improve generalization performance, you can consider techniques such as cross-validation, regularization, or using more sophisticated models. Additionally, analyzing misclassified instances in the testing set can provide insights into the model's weaknesses and areas for improvement."
   ]
  },
  {
   "cell_type": "code",
   "execution_count": 22,
   "metadata": {},
   "outputs": [
    {
     "data": {
      "image/png": "[encoded data removed]",
      "text/plain": [
       "<Figure size 640x50 with 1 Axes>"
      ]
     },
     "metadata": {},
     "output_type": "display_data"
    }
   ],
   "source": [
    "# Plot the dataset as a 1-D scatterplot with blue (-) for the \n",
    "# negative class and red (+) for the positive class.\n",
    "plt.figure().set_figheight(0.5)\n",
    "plt.scatter(\n",
    "    X[y == 0],\n",
    "    np.zeros(sum(y == 0)),\n",
    "    c=\"blue\",\n",
    "    marker=\"$\\\\ominus$\",\n",
    "    s=80,\n",
    "    linewidths=0.01,\n",
    ")\n",
    "plt.scatter(\n",
    "    X[y == 1], np.zeros(sum(y == 1)), c=\"red\", marker=\"$\\\\oplus$\", s=80, linewidths=0.01\n",
    ")\n",
    "plt.xlim(-19, 22)\n",
    "plt.gca().axes.get_yaxis().set_visible(False)\n",
    "plt.title(\"Full Dataset\")\n",
    "plt.show()"
   ]
  },
  {
   "cell_type": "markdown",
   "metadata": {},
   "source": [
    "Let's look at the training and testing sets individually though, and plot the threshold $t$ that we learned as well:"
   ]
  },
  {
   "cell_type": "code",
   "execution_count": 23,
   "metadata": {},
   "outputs": [
    {
     "data": {
      "image/png": "[encoded data removed]",
      "text/plain": [
       "<Figure size 640x50 with 1 Axes>"
      ]
     },
     "metadata": {},
     "output_type": "display_data"
    }
   ],
   "source": [
    "# Plot the training dataset as a 1-D scatterplot with blue (-) for the \n",
    "# negative class and red (+) for the positive class. Add a vertical line\n",
    "# at the threshold `t`.\n",
    "plt.figure().set_figheight(0.5)\n",
    "plt.scatter(\n",
    "    X_train[y_train == 0],\n",
    "    np.zeros(sum(y_train == 0)),\n",
    "    c=\"blue\",\n",
    "    marker=\"$\\\\ominus$\",\n",
    "    s=80,\n",
    "    linewidths=0.01,\n",
    ")\n",
    "plt.scatter(\n",
    "    X_train[y_train == 1],\n",
    "    np.zeros(sum(y_train == 1)),\n",
    "    c=\"red\",\n",
    "    marker=\"$\\\\oplus$\",\n",
    "    s=80,\n",
    "    linewidths=0.01,\n",
    ")\n",
    "plt.axvline(x=t, c=\"darkgreen\", linestyle=\"dashed\")\n",
    "plt.xlim(-19, 22)\n",
    "plt.gca().axes.get_yaxis().set_visible(False)\n",
    "plt.title(f\"Train - with Threshold t={t:0.2f}\")\n",
    "plt.show()"
   ]
  },
  {
   "cell_type": "markdown",
   "metadata": {},
   "source": [
    "And the same for the testing set:"
   ]
  },
  {
   "cell_type": "code",
   "execution_count": 24,
   "metadata": {},
   "outputs": [
    {
     "data": {
      "image/png": "[encoded data removed]",
      "text/plain": [
       "<Figure size 640x50 with 1 Axes>"
      ]
     },
     "metadata": {},
     "output_type": "display_data"
    }
   ],
   "source": [
    "# Plot the testing dataset as a 1-D scatterplot with blue (-) for the \n",
    "# negative class and red (+) for the positive class. Add a vertical line\n",
    "# at the threshold `t`.\n",
    "plt.figure().set_figheight(0.5)\n",
    "plt.scatter(\n",
    "    X_test[y_test == 0],\n",
    "    np.zeros(sum(y_test == 0)),\n",
    "    c=\"blue\",\n",
    "    marker=\"$\\\\ominus$\",\n",
    "    s=80,\n",
    "    linewidths=0.01,\n",
    ")\n",
    "plt.scatter(\n",
    "    X_test[y_test == 1],\n",
    "    np.zeros(sum(y_test == 1)),\n",
    "    c=\"red\",\n",
    "    marker=\"$\\\\oplus$\",\n",
    "    s=80,\n",
    "    linewidths=0.01,\n",
    ")\n",
    "plt.axvline(x=t, c=\"darkgreen\", linestyle=\"dashed\")\n",
    "plt.xlim(-19, 22)\n",
    "plt.gca().axes.get_yaxis().set_visible(False)\n",
    "plt.title(f\"Test - with Threshold t={t:0.2f}\")\n",
    "plt.show()"
   ]
  },
  {
   "cell_type": "markdown",
   "metadata": {},
   "source": [
    "Now we can clearly see that the learned threshold $t$ separates the training set, but it fails to separate the testing set. \n",
    "\n",
    "We would say that this model _fails to generalize_.\n",
    "\n",
    "**Could we do better?**   \n",
    "\n",
    "**If so, how?**   ...  "
   ]
  },
  {
   "cell_type": "markdown",
   "metadata": {},
   "source": [
    "Yes, by determining an optimal threshold (`t`) for classification based on the distribution of the training data. Here's a breakdown of what we've done:\n",
    "\n",
    "1. **Finding Index of Last Blue and First Red Points**: We've identified the indices of the point after last blue point and the first red point in the training dataset. This step involves locating the boundaries between the two classes.\n",
    "\n",
    "2. **Calculating the Midpoint**: Once we've identified the indices, we've calculated the midpoint between the last blue point and the first red point. This midpoint serves as a potential threshold value (`t`) for classifying new data points.\n",
    "\n",
    "3. **Visualizing the Threshold**: We've plotted the training dataset along with the threshold (`t`) and vertical lines at the endpoints of the blue and red points. This visualization helps visualize how the threshold separates the two classes.\n",
    "\n",
    "This process can be considered a form of threshold determination or threshold optimization, where we're trying to find a threshold value that effectively separates the classes in the training data. It's a crucial step in building classification models, especially when dealing with binary classification problems."
   ]
  },
  {
   "cell_type": "code",
   "execution_count": 43,
   "metadata": {},
   "outputs": [
    {
     "data": {
      "image/png": "[encoded data removed]",
      "text/plain": [
       "<Figure size 640x50 with 1 Axes>"
      ]
     },
     "metadata": {},
     "output_type": "display_data"
    }
   ],
   "source": [
    "# Find the index of the last blue point and the first red point\n",
    "last_blue_index = np.where(y_train == 0)[0][-2]\n",
    "first_red_index = np.where(y_train == 1)[0][0]\n",
    "\n",
    "# Calculate the midpoint between these two points\n",
    "t = (X_train[last_blue_index] + X_train[first_red_index]) / 2\n",
    "\n",
    "# Plot the training dataset as a 1-D scatterplot with blue (-) for the \n",
    "# negative class and red (+) for the positive class. Add a vertical line\n",
    "# at the threshold `t`, and vertical lines at the endpoints of the blue and red points.\n",
    "plt.figure().set_figheight(0.5)\n",
    "plt.scatter(\n",
    "    X_train[y_train == 0],\n",
    "    np.zeros(sum(y_train == 0)),\n",
    "    c=\"blue\",\n",
    "    marker=\"$\\\\ominus$\",\n",
    "    s=80,\n",
    "    linewidths=0.01,\n",
    ")\n",
    "plt.scatter(\n",
    "    X_train[y_train == 1],\n",
    "    np.zeros(sum(y_train == 1)),\n",
    "    c=\"red\",\n",
    "    marker=\"$\\\\oplus$\",\n",
    "    s=80,\n",
    "    linewidths=0.01,\n",
    ")\n",
    "\n",
    "# Plot vertical lines at the endpoints of the blue and red points\n",
    "plt.axvline(x=X_train[last_blue_index], c=\"yellow\", linestyle=\"dashed\")\n",
    "plt.axvline(x=X_train[first_red_index], c=\"yellow\", linestyle=\"dashed\")\n",
    "\n",
    "plt.axvline(x=t, c=\"darkgreen\", linestyle=\"dashed\")  # Threshold line\n",
    "plt.xlim(-19, 22)\n",
    "plt.gca().axes.get_yaxis().set_visible(False)\n",
    "plt.title(f\"Train - with Threshold t={t:0.2f}\")\n",
    "plt.show()\n"
   ]
  },
  {
   "cell_type": "code",
   "execution_count": 45,
   "metadata": {},
   "outputs": [
    {
     "data": {
      "image/png": "[encoded data removed]",
      "text/plain": [
       "<Figure size 640x50 with 1 Axes>"
      ]
     },
     "metadata": {},
     "output_type": "display_data"
    }
   ],
   "source": [
    "# Plot the testing dataset as a 1-D scatterplot with blue (-) for the \n",
    "# negative class and red (+) for the positive class. Add a vertical line\n",
    "# at the threshold `t`.\n",
    "plt.figure().set_figheight(0.5)\n",
    "plt.scatter(\n",
    "    X_test[y_test == 0],\n",
    "    np.zeros(sum(y_test == 0)),\n",
    "    c=\"blue\",\n",
    "    marker=\"$\\\\ominus$\",\n",
    "    s=80,\n",
    "    linewidths=0.01,\n",
    ")\n",
    "plt.scatter(\n",
    "    X_test[y_test == 1],\n",
    "    np.zeros(sum(y_test == 1)),\n",
    "    c=\"red\",\n",
    "    marker=\"$\\\\oplus$\",\n",
    "    s=80,\n",
    "    linewidths=0.01,\n",
    ")\n",
    "# Plot vertical lines at the endpoints of the blue and red points\n",
    "plt.axvline(x=X_train[last_blue_index], c=\"yellow\", linestyle=\"dashed\")\n",
    "plt.axvline(x=X_train[first_red_index], c=\"yellow\", linestyle=\"dashed\")\n",
    "\n",
    "plt.axvline(x=t, c=\"darkgreen\", linestyle=\"dashed\")  # Threshold line\n",
    "plt.xlim(-19, 22)\n",
    "plt.gca().axes.get_yaxis().set_visible(False)\n",
    "plt.title(f\"Train - with Threshold t={t:0.2f}\")\n",
    "plt.show()"
   ]
  }
 ],
 "metadata": {
  "kernelspec": {
   "display_name": ".venv",
   "language": "python",
   "name": "python3"
  },
  "language_info": {
   "codemirror_mode": {
    "name": "ipython",
    "version": 3
   },
   "file_extension": ".py",
   "mimetype": "text/x-python",
   "name": "python",
   "nbconvert_exporter": "python",
   "pygments_lexer": "ipython3",
   "version": "3.12.1"
  }
 },
 "nbformat": 4,
 "nbformat_minor": 2
}
