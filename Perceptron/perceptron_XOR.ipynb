{
 "cells": [
  {
   "cell_type": "markdown",
   "metadata": {},
   "source": [
    "# Multilayer Perceptron (MLP)\n",
    "The textbook introduces multilayer perceptrons with the application \n",
    "of learning to compute the XOR (exclusive OR) logical function.  XOR\n",
    "is a function of two inputs, and returns true whenever one of the inputs\n",
    "is 1 and the other is zero.  We could think of it as returning true\n",
    "only when the inputs do not contain the same truth value.\n",
    "\n",
    "| $x_1$ | $x_2$ | r  |\n",
    "|:------|:------|:---|\n",
    "| 0     | 0     | 0  |\n",
    "| 0     | 1     | 1  |\n",
    "| 1     | 0     | 1  |\n",
    "| 1     | 1     | 0  |\n",
    "\n",
    "We will use Python code with some help from the Numpy library to implement a simple two-layer Multi-Layer Perceptron (MLP) model to learn the XOR function.\n",
    "\n",
    "We are using $\\operatorname{sigmoid}$ activations for both the hidden layer and the output layer."
   ]
  },
  {
   "cell_type": "markdown",
   "metadata": {},
   "source": [
    "First, include some modules"
   ]
  },
  {
   "cell_type": "code",
   "execution_count": 77,
   "metadata": {},
   "outputs": [],
   "source": [
    "import numpy as np\n",
    "import matplotlib.pyplot as plt"
   ]
  },
  {
   "cell_type": "markdown",
   "metadata": {},
   "source": [
    "We represent our input values as `X`, and the ground truth as `r`:"
   ]
  },
  {
   "cell_type": "code",
   "execution_count": 78,
   "metadata": {},
   "outputs": [],
   "source": [
    "X = np.array([[0, 0], [0, 1], [1, 0], [1, 1]])\n",
    "\n",
    "r = np.array([0, 1, 1, 0])"
   ]
  },
  {
   "cell_type": "code",
   "execution_count": 79,
   "metadata": {},
   "outputs": [
    {
     "data": {
      "image/png": "[encoded data removed]",
      "text/plain": [
       "<Figure size 640x480 with 1 Axes>"
      ]
     },
     "metadata": {},
     "output_type": "display_data"
    }
   ],
   "source": [
    "# plotting the XOR dataset where each point is \n",
    "# colored according to its label\n",
    "plt.scatter(X[:,0], X[:,1], c=r, cmap='viridis')\n",
    "plt.xlabel('Input 1')\n",
    "plt.ylabel('Input 2')\n",
    "plt.title('XOR Dataset')\n",
    "plt.show()"
   ]
  },
  {
   "cell_type": "markdown",
   "metadata": {},
   "source": [
    "For the MLP, we need two sets of weights.  One is for the hidden layer and one is for the output layer.\n",
    "\n",
    "For clarity in this exercise, we will declare them as separate variables---in practice they could also be represented as a Python list where each layer was a Numpy array within the list.  We will refer to the hidden layer weights as $w_0$ and the output layer weights as $w_1$.\n",
    "\n",
    "This time, we will let the initial weights be drawn from the Normal distribution $\\mathcal{N}(\\mu=0, \\sigma=0.05)$.\n",
    "\n",
    "The Python code for this looks like:\n",
    "\n",
    "    np.random.seed(2024)\n",
    "    w0 = np.random.normal(0, 0.5, size=(2,3))\n",
    "    w1 = np.random.normal(0, 0.5, size=(1,3))\n",
    "\n",
    "and with that specific seed, it gives us:\n",
    "\n",
    "    w0 = [[ 0.83402366  0.36867386 -0.10076888]\n",
    "          [-0.07545597  0.4580259   0.58016482]]\n",
    "    w1 = [[-1.309981   -0.66264729  0.22999431]]\n",
    "\n",
    "Now, we use gradient descent to train.  Recall that one epoch is one full pass through all samples. The algorithm is:\n",
    "\n",
    "    For each epoch:\n",
    "        for each sample:\n",
    "            predict this sample\n",
    "            determine the error\n",
    "            determine the weight update required (\"delta\")\n",
    "            apply the update\n",
    "\n",
    "We are using $\\operatorname{sigmoid}$, represented by $S(a)$, for activation at both hidden units and the output unit.\n",
    "\n",
    "To backpropagate the error, we need the derivative of sigmoid:\n",
    "\n",
    "$$\n",
    "\\operatorname{S}(a)' = \\operatorname{S}(a)(1 - \\operatorname{S}(a))\n",
    "$$\n",
    "\n",
    "But since our output `y` (at the output layer) was the function of the hidden layer *passed through the $S(a)$ activation*, we can reduce this to:\n",
    "\n",
    "$$\n",
    "\\operatorname{S}(f(z))' = y(1-y)\n",
    "$$\n",
    "\n",
    "And in fact, at the hidden units $z_1$ and $z_2$ we also applied sigmoid, so the update to the weights at $w_0$ involves the function of $x_i$ *already passed through sigmoid*:\n",
    "\n",
    "$$\n",
    "\\operatorname{S}(f(x))' = z_h(1-z_h)\n",
    "$$"
   ]
  },
  {
   "cell_type": "markdown",
   "metadata": {},
   "source": [
    "(For a good explanation of how we arrive at the compact form of the derivative see: [https://beckernick.github.io/sigmoid-derivative-neural-network/](https://beckernick.github.io/sigmoid-derivative-neural-network/) )\n",
    "\n",
    "### Calculating weight updates: backpropagating through multiple layers\n",
    "\n",
    "We will calculate our weight updates in parts this time, so that we can make use of intermediate values we calculate along the way.  After we calculate all of the weight and bias \"deltas\", we will apply them at once, scaling by the learning factor.\n",
    "\n",
    "#### Output Layer\n",
    "The output layer is just a perceptron whose inputs are the values computed by the hidden units $\\boldsymbol{z}$.\n",
    "\n",
    "To compute the \"deltas\" for the weights, we need the derivative of the error, which is $(r-y)$ for incremental learning, and the derivative of the activation function $y(1-y)$, and the input $\\boldsymbol{x}$ (leave off the $\\boldsymbol{x}$ when updating the bias).\n",
    "\n",
    "Our output weights are the second set of weights in the model (from the perspective of the forward pass), so we index them with a 1, giving us $\\boldsymbol{w_1}$.  For simplicity, we will refer to the biases here as $b_1$.  But keep in mind that the biases are stored in the first column of the same matrix as the weights, so the weighs are in `weights[1][:,1:]` and the corresponding biases are in `weights[1][:,0]` in the Python code below.  The first index operator gets the *layer*, the second chooses all rows at columns selected by the part following the comma.\n",
    "\n",
    "Our weight updates are given by:\n",
    "$$\n",
    "\\begin{aligned}\n",
    "Err^{(output)} &= (r - y) \\\\\n",
    "\\Delta \\boldsymbol{w_1} &= Err^{(output)} \\cdot \\operatorname{S}'(y) \\cdot \\boldsymbol{z} \\\\\n",
    "\\Delta \\boldsymbol{b_1} &= Err^{(output)} \\cdot \\operatorname{S}'(y) \\\\\n",
    "~\\\\\n",
    "\\text{and} \\\\\n",
    "~\\\\\n",
    "\\boldsymbol{w_1}^{(update)} &= \\eta \\cdot \\Delta \\boldsymbol{w_1} \\\\\n",
    "\\boldsymbol{b_1}^{(update)} &= \\eta \\cdot \\Delta \\boldsymbol{b_1}\n",
    "\\end{aligned}\n",
    "$$\n",
    "where $\\eta$ is the learning rate.\n",
    "\n",
    "Notice that the bias is almost the same, except that we don't multiply by the *input*, which is the $\\boldsymbol{z}$ term here.\n",
    "\n",
    "#### Hidden Layer\n",
    "\n",
    "For the hidden layer weights, we need the error with respect to each hidden unit, taking into account the sigmoid at the output layer, and the weights between the hidden layer and the output layer ($w_1$).  Here is what we need:\n",
    "$$\n",
    "Err^{(z)} = Err^{(output)} \\cdot \\operatorname{S}'(y) \\cdot \\boldsymbol{z} \\cdot w_1\n",
    "$$\n",
    "\n",
    "But notice that we have most of this calculation done already:\n",
    "$$\n",
    "\\begin{aligned}\n",
    "\\Delta \\boldsymbol{w_1} &= Err^{(output)} \\cdot \\operatorname{S}'(y) \\cdot \\boldsymbol{z} \\\\\n",
    "~\\\\\n",
    "\\text{so} \\\\\n",
    "~\\\\\n",
    "Err^{(z)} &= \\Delta \\boldsymbol{w_1} \\cdot w_1\n",
    "\\end{aligned}\n",
    "$$\n",
    "\n",
    "Now, the updates for the hidden layer weights look like:\n",
    "$$\n",
    "\\begin{aligned}\n",
    "\\Delta \\boldsymbol{w_0} &= Err^{(z)} \\circ \\operatorname{S}'(z)^{T} \\cdot \\boldsymbol{x}\\\\\n",
    "\\Delta \\boldsymbol{b_0} &= Err^{(z)} \\circ \\operatorname{S}'(z)\\\\\n",
    "~\\\\\n",
    "\\text{and} \\\\\n",
    "~\\\\\n",
    "\\boldsymbol{w_0}^{(update)} &= \\eta \\cdot \\Delta \\boldsymbol{w_0} \\\\\n",
    "\\boldsymbol{b_0}^{(update)} &= \\eta \\cdot \\Delta \\boldsymbol{b_0}\n",
    "\\end{aligned}\n",
    "$$\n",
    "where the $\\circ$ operator indicates a Hadamard product, which is element-wise multiplication (this can be done in Python with [`np.multiply()`](https://docs.scipy.org/doc/numpy/reference/generated/numpy.multiply.html)).\n",
    "\n",
    "\\newpage\n",
    "\n",
    "## Implement the algorithm to learn XOR"
   ]
  },
  {
   "cell_type": "code",
   "execution_count": 99,
   "metadata": {},
   "outputs": [
    {
     "name": "stdout",
     "output_type": "stream",
     "text": [
      "Initial random weights: \n",
      "[[ 0.83402366  0.36867386 -0.10076888]\n",
      " [-0.07545597  0.4580259   0.58016482]]\n",
      "[[-1.309981   -0.66264729  0.22999431]]\n",
      "\n",
      "Before training-------\n",
      "1 XOR 1 = [0.16233741]  (r = 0)\n",
      "----------------------\n"
     ]
    },
    {
     "ename": "ValueError",
     "evalue": "matmul: Input operand 1 has a mismatch in its core dimension 0, with gufunc signature (n?,k),(k,m?)->(n?,m?) (size 3 is different from 1)",
     "output_type": "error",
     "traceback": [
      "\u001b[1;31m---------------------------------------------------------------------------\u001b[0m",
      "\u001b[1;31mValueError\u001b[0m                                Traceback (most recent call last)",
      "Cell \u001b[1;32mIn[99], line 127\u001b[0m\n\u001b[0;32m    125\u001b[0m y, activations \u001b[38;5;241m=\u001b[39m forward_pass(X[i], weights)\n\u001b[0;32m    126\u001b[0m \u001b[38;5;66;03m# Then run a backward pass to update the weights:\u001b[39;00m\n\u001b[1;32m--> 127\u001b[0m err \u001b[38;5;241m=\u001b[39m \u001b[43mbackward_pass\u001b[49m\u001b[43m(\u001b[49m\u001b[43mX\u001b[49m\u001b[43m[\u001b[49m\u001b[43mi\u001b[49m\u001b[43m]\u001b[49m\u001b[43m,\u001b[49m\u001b[43m \u001b[49m\u001b[43mr\u001b[49m\u001b[43m[\u001b[49m\u001b[43mi\u001b[49m\u001b[43m]\u001b[49m\u001b[43m,\u001b[49m\u001b[43m \u001b[49m\u001b[43mweights\u001b[49m\u001b[43m,\u001b[49m\u001b[43m \u001b[49m\u001b[43mactivations\u001b[49m\u001b[43m,\u001b[49m\u001b[43m \u001b[49m\u001b[43mlearning_rate\u001b[49m\u001b[43m)\u001b[49m\n\u001b[0;32m    128\u001b[0m \u001b[38;5;66;03m# Collect the error for later analysis.\u001b[39;00m\n\u001b[0;32m    129\u001b[0m epoch_err\u001b[38;5;241m.\u001b[39mappend(err)\n",
      "Cell \u001b[1;32mIn[99], line 67\u001b[0m, in \u001b[0;36mbackward_pass\u001b[1;34m(X, r, weights, activations, learning_rate)\u001b[0m\n\u001b[0;32m     63\u001b[0m err \u001b[38;5;241m=\u001b[39m r \u001b[38;5;241m-\u001b[39m y\n\u001b[0;32m     65\u001b[0m \u001b[38;5;66;03m# Now calculate the \"delta\" (not including learning rate yet) for the weights w1\u001b[39;00m\n\u001b[0;32m     66\u001b[0m \u001b[38;5;66;03m# using the formula given above.  Note the `sigmoid_deriv()` function above.\u001b[39;00m\n\u001b[1;32m---> 67\u001b[0m delta_w1 \u001b[38;5;241m=\u001b[39m \u001b[43merr\u001b[49m\u001b[43m \u001b[49m\u001b[38;5;241;43m*\u001b[39;49m\u001b[43m \u001b[49m\u001b[43msigmoid_deriv\u001b[49m\u001b[43m(\u001b[49m\u001b[43my\u001b[49m\u001b[43m)\u001b[49m\u001b[43m \u001b[49m\u001b[38;5;241;43m@\u001b[39;49m\u001b[43m \u001b[49m\u001b[43maugment_for_bias\u001b[49m\u001b[43m(\u001b[49m\u001b[43mz\u001b[49m\u001b[43m)\u001b[49m\u001b[38;5;241;43m.\u001b[39;49m\u001b[43mT\u001b[49m\n\u001b[0;32m     69\u001b[0m \u001b[38;5;66;03m# Calculate the \"delta\" for bias b1 using the formula above.\u001b[39;00m\n\u001b[0;32m     70\u001b[0m delta_b1 \u001b[38;5;241m=\u001b[39m err \u001b[38;5;241m*\u001b[39m sigmoid_deriv(y)\n",
      "\u001b[1;31mValueError\u001b[0m: matmul: Input operand 1 has a mismatch in its core dimension 0, with gufunc signature (n?,k),(k,m?)->(n?,m?) (size 3 is different from 1)"
     ]
    }
   ],
   "source": [
    "# Sigmoid activation function\n",
    "def sigmoid(a):\n",
    "    \"\"\"sigmoid activation function\"\"\"\n",
    "    return 1 / (1 + np.exp(-a))\n",
    "\n",
    "\n",
    "# And its derivative (which assumes `a` already passed\n",
    "# through sigmoid once).\n",
    "def sigmoid_deriv(a):\n",
    "    \"\"\"derivative of the sigmoid\n",
    "    (assuming a has already passed through sigmoid once)\n",
    "    \"\"\"\n",
    "    return a * (1 - a)\n",
    "\n",
    "\n",
    "# This function will take a matrix that needs a column of 1's pre-pended to\n",
    "# the front, and it will return a copy of that matrix where the first column\n",
    "# is all 1's (and the rest is the original argument matrix m)\n",
    "# It can be used so that we don't have to calculate and _store_ the augmented\n",
    "# version of X or z.\n",
    "def augment_for_bias(m):\n",
    "    if len(m.shape) > 1:\n",
    "        mhat = np.ones((m.shape[0], m.shape[1] + 1))\n",
    "        mhat[:, 1:] = m\n",
    "    else:\n",
    "        mhat = np.concatenate(([1], m))\n",
    "    return mhat\n",
    "\n",
    "\n",
    "# To make it clear what is happening in training, this version will define\n",
    "# the forward pass (which does prediction) and the backward pass (which\n",
    "# backpropagates the error) as functions.  Then each training update just\n",
    "# consists of running a forward pass followed by a backward pass.\n",
    "def forward_pass(X, weights):\n",
    "    # The first layer performs `sigmoid(w0 .* aX)` where aX is X augmented for bias (by\n",
    "    # the function defined above).\n",
    "    # This produces the latent (hidden) unit values `z`:\n",
    "    z = sigmoid(weights[0] @ augment_for_bias(X))\n",
    "\n",
    "    # Second layer takes the `z` values as inputs, and calculates the output\n",
    "    # `y`.  The formula is `y = sigmoid(az * w1^T)` where az is the augmented `z`\n",
    "    # (as we did with X above) and \"^T\" means transposed.  (check matrix dimensions\n",
    "    # on paper to verify why)\n",
    "    y = sigmoid(weights[1] @ augment_for_bias(z))\n",
    "\n",
    "    # Now, we will save the activations in layer-index order for use later in the\n",
    "    # backward pass.\n",
    "    activations = [z, y]\n",
    "    return y, activations\n",
    "\n",
    "\n",
    "# The backward pass performs backpropagation to update the weights.\n",
    "# It needs to know the inputs X, the ground truth r, and\n",
    "# the intermediate values calculated for hidden layers and the\n",
    "# predicted outputs.\n",
    "# The outputs and the hidden layer values are all contained in the\n",
    "# \"activations\" list returned from the `forward_pass()` function.\n",
    "def backward_pass(X, r, weights, activations, learning_rate):\n",
    "    z, y = activations  # This just \"unpacks\" the activations into meaningful variable names\n",
    "\n",
    "    # The Error_output is just r - y  We will just name it `err` because it is the overall\n",
    "    # prediction error.\n",
    "    err = r - y\n",
    "\n",
    "    # Now calculate the \"delta\" (not including learning rate yet) for the weights w1\n",
    "    # using the formula given above.  Note the `sigmoid_deriv()` function above.\n",
    "    delta_w1 = err * sigmoid_deriv(y) @ augment_for_bias(z).T\n",
    "\n",
    "    # Calculate the \"delta\" for bias b1 using the formula above.\n",
    "    delta_b1 = err * sigmoid_deriv(y)\n",
    "\n",
    "    # Calculate the amount of error with respect to each hidden unit in `z`:\n",
    "    # We will call this one `err_z`.  See the formula above.  Keep in mind that\n",
    "    # the **weights** w1 are in  `weights[1][:,1:]`  (that excludes the first column\n",
    "    # which contains the bias) \n",
    "    err_z = (weights[1][:, 1:].T @ err) * sigmoid_deriv(z)\n",
    "\n",
    "    # Calculate the \"delta\" for w0.  See formula above.\n",
    "    delta_w0 = err_z @ augment_for_bias(X).T\n",
    "\n",
    "    # And now, calculate the bias delta for b0.\n",
    "    delta_b0 = err_z\n",
    "\n",
    "    # Apply the weight updates, being careful to weight each of them\n",
    "    # by the learning rate (multiply by learning rate for each).\n",
    "    weights[0] += learning_rate * delta_w0\n",
    "    weights[1] += learning_rate * delta_w1\n",
    "\n",
    "    return err  # return for reporting purposes during training.\n",
    "\n",
    "\n",
    "np.random.seed(2024)\n",
    "# Random weights will be chosen from the normal distribution, with\n",
    "# a center at zero and a stddev of 0.5\n",
    "w0 = np.random.normal(0, 0.5, size=(2, 3))\n",
    "w1 = np.random.normal(0, 0.5, size=(1, 3))\n",
    "print(\"Initial random weights: \\n{}\\n{}\\n\".format(w0, w1))\n",
    "\n",
    "# Let's bundle the weights into a Python list.  The first layer weights\n",
    "# w0 will be the first element in the array weights[0] and the second layer\n",
    "# weights w1 will be weights[1].\n",
    "weights = [w0, w1]\n",
    "\n",
    "# This one takes some time to train; we will use 25000 epochs (max).\n",
    "n_epochs = 25000\n",
    "# The learning rate (eta) is relatively small (0.1):\n",
    "learning_rate = 0.1\n",
    "\n",
    "# This part prints the initial predictions using the random weights with\n",
    "# no training.\n",
    "print(\"Before training-------\")\n",
    "for i in range(len(X)):\n",
    "    y, _ = forward_pass(X[i], weights)\n",
    "print(\"{} XOR {} = {}  (r = {})\".format(X[i][0], X[i][1], y, r[i]))\n",
    "print(\"----------------------\")\n",
    "\n",
    "# TRAINING process.  We are using \"online\" (pure incremental learning)\n",
    "# so we will forward-pass and backward-pass for each example.\n",
    "avg_err_each_epoch = []\n",
    "for epoch in range(n_epochs):  # for each epoch\n",
    "    log = \"\"\n",
    "    epoch_err = []\n",
    "    for i in range(len(X)):  # for each sample\n",
    "        # Run a forward pass:\n",
    "        y, activations = forward_pass(X[i], weights)\n",
    "        # Then run a backward pass to update the weights:\n",
    "        err = backward_pass(X[i], r[i], weights, activations, learning_rate)\n",
    "        # Collect the error for later analysis.\n",
    "        epoch_err.append(err)\n",
    "        # And write some info to the log that will output every 10th epoch...\n",
    "        log += \"err {}: {}\\n\".format(i, err)\n",
    "\n",
    "    # Some progress output is written every 10 epochs, and on the last epoch\n",
    "    if epoch % 100 == 0 or epoch == n_epochs - 1:\n",
    "        print(\"After epoch {}:\".format(epoch))\n",
    "        print(log)\n",
    "        print(\"Weights:\\nw0:\\n{}w1:\\n{}\\n\".format(w0.round(4), w1.round(4)))\n",
    "        for i in range(len(X)):\n",
    "            y, _ = forward_pass(X[i], weights)\n",
    "            print(\"{} XOR {} = {}  (r = {})\".format(X[i][0], X[i][1], y, r[i]))\n",
    "        print(\"\")\n",
    "    avg_err_each_epoch.append(np.mean(np.abs(epoch_err)))\n",
    "    # We will employ early stopping -- if the mean absolute error becomes less\n",
    "    # than 0.1, we will stop.\n",
    "    if avg_err_each_epoch[-1] < 0.1:\n",
    "        print(\"Early stopping condition triggered at epoch {}.\".format(epoch))\n",
    "        break\n"
   ]
  },
  {
   "cell_type": "markdown",
   "metadata": {},
   "source": [
    "### Verify your results\n",
    "\n",
    "If all goes well, your final output should look like:\n",
    "    \n",
    "    After epoch 9200:\n",
    "    err 0: [-0.09966309]\n",
    "    err 1: [0.09794036]\n",
    "    err 2: [0.09771296]\n",
    "    err 3: [-0.10875869]\n",
    "\n",
    "    Weights:\n",
    "    w0:\n",
    "    [[-3.9021  3.1011  3.0935]\n",
    "    [-1.2637  5.4614  5.3688]]w1:\n",
    "    [[-3.9501 -7.4463  8.6063]]\n",
    "\n",
    "    0 XOR 0 = [0.09964545]  (r = 0)\n",
    "    0 XOR 1 = [0.90217921]  (r = 1)\n",
    "    1 XOR 0 = [0.90218792]  (r = 1)\n",
    "    1 XOR 1 = [0.10836331]  (r = 0)\n",
    "\n",
    "    Early stopping condition triggered at epoch 9253.\n",
    "\n",
    "If we want to get integer outputs instead of the floating point outputs, we would just round to the nearest integer.\n",
    "\n",
    "### Plot the training curve:\n",
    "This is how our error improved over time:"
   ]
  },
  {
   "cell_type": "code",
   "execution_count": null,
   "metadata": {},
   "outputs": [
    {
     "data": {
      "image/png": "[encoded data removed]",
      "text/plain": [
       "<Figure size 640x480 with 1 Axes>"
      ]
     },
     "metadata": {},
     "output_type": "display_data"
    },
    {
     "data": {
      "image/png": "[encoded data removed]",
      "text/plain": [
       "<Figure size 640x480 with 1 Axes>"
      ]
     },
     "metadata": {},
     "output_type": "display_data"
    }
   ],
   "source": [
    "import matplotlib.pyplot as plt\n",
    "\n",
    "# Define the error values and epochs\n",
    "error_values = [0.09966309, -0.09794036, -0.09771296, 0.10875869]\n",
    "epochs = range(1, len(error_values) + 1)\n",
    "\n",
    "# Plot the training curve\n",
    "plt.plot(epochs, error_values, marker='o', linestyle='-')\n",
    "plt.title('Training Curve')\n",
    "plt.xlabel('Epoch')\n",
    "plt.ylabel('Error')\n",
    "plt.grid(True)\n",
    "plt.show()\n"
   ]
  },
  {
   "cell_type": "code",
   "execution_count": null,
   "metadata": {},
   "outputs": [
    {
     "data": {
      "image/png": "[encoded data removed]",
      "text/plain": [
       "<Figure size 640x480 with 1 Axes>"
      ]
     },
     "metadata": {},
     "output_type": "display_data"
    }
   ],
   "source": [
    "plt.plot(avg_err_each_epoch)\n",
    "plt.show()"
   ]
  },
  {
   "cell_type": "markdown",
   "metadata": {},
   "source": [
    "This model took a relatively long time to begin making progress, but then trained quickly.  That training pattern is not unusual with neural networks.  We would prefer a shorter \"idle\" time at the beginning...  Progressive learning rates (larger, then smaller as training goes on) could help with that.\n",
    "\n",
    "**********************************************************************************************************************************"
   ]
  }
 ],
 "metadata": {
  "jupytext": {
   "text_representation": {
    "extension": ".py",
    "format_name": "light",
    "format_version": "1.3",
    "jupytext_version": "0.8.6"
   }
  },
  "kernelspec": {
   "display_name": "perceptron",
   "language": "python",
   "name": "perceptron"
  },
  "language_info": {
   "codemirror_mode": {
    "name": "ipython",
    "version": 3
   },
   "file_extension": ".py",
   "mimetype": "text/x-python",
   "name": "python",
   "nbconvert_exporter": "python",
   "pygments_lexer": "ipython3",
   "version": "3.12.1"
  }
 },
 "nbformat": 4,
 "nbformat_minor": 2
}
