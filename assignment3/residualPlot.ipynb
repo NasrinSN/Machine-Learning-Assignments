{
 "cells": [
  {
   "cell_type": "markdown",
   "metadata": {},
   "source": [
    "### Student Name : Nasrin Sultana Nipa\n",
    "### Course       : CS-6443 (Machine Learning)\n",
    "### Due Date     : Wednesday, February 7\n",
    "### Assignment   : Question Set 1"
   ]
  },
  {
   "cell_type": "markdown",
   "metadata": {},
   "source": [
    "1. Answer to the question no 1 has been submitted using individual pdf file.\n",
    "\n",
    "2. We should prefer logistic regression.\n",
    "\n",
    "Here,\n",
    "   - Linear classifier (logistic regression):\n",
    "     - Training error rate: 20%\n",
    "     - Test error rate: 30%\n",
    "   - 1-nearest neighbors:\n",
    "     - Average error rate: 18%\n",
    "\n",
    "In this given problem, the logistic regression is demonstrating a reduction of performance when performing KNN with K=1. But for 1-nearest neighbour algorithm the training error is always going to be zero. Because for 1-nearest neighbour algorithm every assigned point of traiing set is closest to it's neighbour. So the neighbour is always in it's actual class.\n",
    "\n",
    "So, for 1-KNN if,\n",
    "- trainingError = 0 \n",
    "- averageError = 0\n",
    "- testError = (18% * 2) - trainingError = 36% > 30%\n",
    "This testError is greater than the testError of logistic regreesion. Therefore, logistic regression is preferable here."
   ]
  },
  {
   "cell_type": "markdown",
   "metadata": {},
   "source": [
    "3. Sum of Squared Errors (SSE):\n",
    "   To compute SSE, we square the differences between the correct and predicted values, then sum them up.\n",
    "   \n",
    "Let's compute the Sum of Squared Errors (SSE) step by step."
   ]
  },
  {
   "cell_type": "markdown",
   "metadata": {},
   "source": [
    "Step 1: Calculate the differences between correct and predicted values:"
   ]
  },
  {
   "cell_type": "code",
   "execution_count": 4,
   "metadata": {},
   "outputs": [
    {
     "name": "stdout",
     "output_type": "stream",
     "text": [
      "Differences: [-1.98  0.94  1.27 -1.99  0.68  1.82 -4.83  0.6  -8.86 -2.01 -3.67 -1.86\n",
      " -2.94  1.39  0.64]\n"
     ]
    }
   ],
   "source": [
    "differences = correct_values - predicted_values\n",
    "print(\"Differences:\", differences)"
   ]
  },
  {
   "cell_type": "markdown",
   "metadata": {},
   "source": [
    "Step 2: Square the differences:"
   ]
  },
  {
   "cell_type": "code",
   "execution_count": 5,
   "metadata": {},
   "outputs": [
    {
     "name": "stdout",
     "output_type": "stream",
     "text": [
      "Squared Differences: [ 3.9204  0.8836  1.6129  3.9601  0.4624  3.3124 23.3289  0.36   78.4996\n",
      "  4.0401 13.4689  3.4596  8.6436  1.9321  0.4096]\n"
     ]
    }
   ],
   "source": [
    "squared_differences = differences ** 2\n",
    "print(\"Squared Differences:\", squared_differences)"
   ]
  },
  {
   "cell_type": "markdown",
   "metadata": {},
   "source": [
    "Step 3: Sum up the squared differences to get the SSE:"
   ]
  },
  {
   "cell_type": "code",
   "execution_count": 6,
   "metadata": {},
   "outputs": [
    {
     "name": "stdout",
     "output_type": "stream",
     "text": [
      "Sum of Squared Errors (SSE): 148.29419999999996\n"
     ]
    }
   ],
   "source": [
    "sse = np.sum(squared_differences)\n",
    "print(\"Sum of Squared Errors (SSE):\", sse)"
   ]
  },
  {
   "cell_type": "markdown",
   "metadata": {},
   "source": [
    "4. Plotting the residuals:\n",
    "   - We'll order the data by the value of X, calculate the residuals, and then plot them against the index.."
   ]
  },
  {
   "cell_type": "code",
   "execution_count": 2,
   "metadata": {},
   "outputs": [
    {
     "data": {
      "image/png": "[encoded data removed]",
      "text/plain": [
       "<Figure size 1000x600 with 1 Axes>"
      ]
     },
     "metadata": {},
     "output_type": "display_data"
    }
   ],
   "source": [
    "import matplotlib.pyplot as plt\n",
    "\n",
    "# Sort the residuals based on the sorted indices of the correct values\n",
    "sorted_indices = np.argsort(correct_values)\n",
    "sorted_residuals = (correct_values - predicted_values)[sorted_indices]\n",
    "\n",
    "# Plot residuals\n",
    "plt.figure(figsize=(10, 6))\n",
    "plt.scatter(range(len(sorted_residuals)), sorted_residuals, color='blue')\n",
    "\n",
    "#Add a horixontal line at y = 0 where residuals are 0\n",
    "plt.axhline(y=0, color='red', linestyle='--')  # Add horizontal line at y=0\n",
    "\n",
    "#labeling\n",
    "plt.title('Residual Plot')\n",
    "plt.xlabel('Index')\n",
    "plt.ylabel('Residuals')\n",
    "plt.grid(True)\n",
    "plt.show()"
   ]
  },
  {
   "cell_type": "markdown",
   "metadata": {},
   "source": [
    "From the shape of this plot, we can deduce the relationship between the model predictions and the true distribution of the samples.\n",
    "- Here, the residuals are randomly scattered around (above and beneath the x axis) the horizontal line at y = 0, with assysmettric patterns, indicates that the model's predictions are relatively unbiased."
   ]
  }
 ],
 "metadata": {
  "anaconda-cloud": {},
  "jupytext": {
   "text_representation": {
    "extension": ".py",
    "format_name": "light",
    "format_version": "1.5",
    "jupytext_version": "1.3.2"
   }
  },
  "kernel_info": {
   "name": "python3"
  },
  "kernelspec": {
   "display_name": "Python 3",
   "language": "python",
   "name": "python3"
  },
  "language_info": {
   "codemirror_mode": {
    "name": "ipython",
    "version": 3
   },
   "file_extension": ".py",
   "mimetype": "text/x-python",
   "name": "python",
   "nbconvert_exporter": "python",
   "pygments_lexer": "ipython3",
   "version": "3.12.1"
  },
  "nteract": {
   "version": "0.15.0"
  }
 },
 "nbformat": 4,
 "nbformat_minor": 4
}
